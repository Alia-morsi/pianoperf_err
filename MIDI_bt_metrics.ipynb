{
 "cells": [
  {
   "cell_type": "markdown",
   "id": "ae9eaa5f-658b-4877-b72e-4ab374d1eb21",
   "metadata": {
    "tags": []
   },
   "source": [
    "# Beat tracking metrics."
   ]
  },
  {
   "cell_type": "code",
   "execution_count": null,
   "id": "37f59567-5115-4f9b-8919-e3a5b71f3981",
   "metadata": {},
   "outputs": [],
   "source": []
  },
  {
   "cell_type": "code",
   "execution_count": null,
   "id": "d2d2408b-587e-4ca6-92a9-11a62da4b3c6",
   "metadata": {},
   "outputs": [],
   "source": []
  },
  {
   "cell_type": "markdown",
   "id": "e3efda99-3a7e-47f8-80aa-79a3462ae226",
   "metadata": {},
   "source": [
    "## Metrics for snippets"
   ]
  },
  {
   "cell_type": "markdown",
   "id": "28601096-6ddf-4ada-adb3-0021c67ecb27",
   "metadata": {},
   "source": [
    "## Metrics for full files"
   ]
  },
  {
   "cell_type": "markdown",
   "id": "49d771d0-4e2c-4c4b-9c8a-3c0415cffe9f",
   "metadata": {},
   "source": [
    "# Qualitative Analysis"
   ]
  },
  {
   "cell_type": "markdown",
   "id": "c9139904-fdc2-40da-9beb-c19d97898107",
   "metadata": {},
   "source": [
    "## Check areas that have low accuracies"
   ]
  },
  {
   "cell_type": "markdown",
   "id": "6499ecf8-7cd8-4e57-99ca-bccc98f45f2f",
   "metadata": {},
   "source": [
    "## When choosing a time section and a piece:\n",
    "## show some charts relating to the activation functions, the false positives, false negatives\n",
    "## and, provide some sonic output.\n"
   ]
  },
  {
   "cell_type": "code",
   "execution_count": null,
   "id": "dc9c9139-cf8d-4445-86d3-3c1e7bd52c05",
   "metadata": {},
   "outputs": [],
   "source": []
  }
 ],
 "metadata": {
  "kernelspec": {
   "display_name": "Python 3.9",
   "language": "python",
   "name": "python3_9"
  },
  "language_info": {
   "codemirror_mode": {
    "name": "ipython",
    "version": 3
   },
   "file_extension": ".py",
   "mimetype": "text/x-python",
   "name": "python",
   "nbconvert_exporter": "python",
   "pygments_lexer": "ipython3",
   "version": "3.9.13"
  }
 },
 "nbformat": 4,
 "nbformat_minor": 5
}
